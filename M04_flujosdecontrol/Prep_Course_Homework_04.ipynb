{
 "cells": [
  {
   "attachments": {},
   "cell_type": "markdown",
   "metadata": {},
   "source": [
    "## Flujos de Control"
   ]
  },
  {
   "attachments": {},
   "cell_type": "markdown",
   "metadata": {},
   "source": [
    "1) Crear una variable que contenga un elemento del conjunto de números enteros y luego imprimir por pantalla si es mayor o menor a cero"
   ]
  },
  {
   "cell_type": "code",
   "execution_count": 5,
   "metadata": {},
   "outputs": [
    {
     "name": "stdout",
     "output_type": "stream",
     "text": [
      "El número 10  es mayor que 0 \n"
     ]
    }
   ],
   "source": [
    "a=10\n",
    "if a>0:\n",
    "    print('El número', str(a),' es mayor que 0 ')\n",
    "elif a<0:\n",
    "    print('El número', str(a), 'es menor que 0' )\n",
    "else:\n",
    "    print('El número', str(a), 'es igual a 0')\n",
    "\n"
   ]
  },
  {
   "attachments": {},
   "cell_type": "markdown",
   "metadata": {},
   "source": [
    "2) Crear dos variables y un condicional que informe si son del mismo tipo de dato"
   ]
  },
  {
   "cell_type": "code",
   "execution_count": 8,
   "metadata": {},
   "outputs": [
    {
     "name": "stdout",
     "output_type": "stream",
     "text": [
      "las variables no son iguales\n"
     ]
    }
   ],
   "source": [
    "b='manzana'\n",
    "c=456\n",
    "if (type(b))==(type(c)):\n",
    "    print('Las variables son iguales')\n",
    "else:\n",
    "    print('las variables no son iguales')"
   ]
  },
  {
   "attachments": {},
   "cell_type": "markdown",
   "metadata": {},
   "source": [
    "3) Para los valores enteros del 1 al 20, imprimir por pantalla si es par o impar"
   ]
  },
  {
   "cell_type": "code",
   "execution_count": 10,
   "metadata": {},
   "outputs": [
    {
     "name": "stdout",
     "output_type": "stream",
     "text": [
      "El numero 0 es par\n",
      "El numero 1 es inpar\n",
      "El numero 2 es par\n",
      "El numero 3 es inpar\n",
      "El numero 4 es par\n",
      "El numero 5 es inpar\n",
      "El numero 6 es par\n",
      "El numero 7 es inpar\n",
      "El numero 8 es par\n",
      "El numero 9 es inpar\n",
      "El numero 10 es par\n",
      "El numero 11 es inpar\n",
      "El numero 12 es par\n",
      "El numero 13 es inpar\n",
      "El numero 14 es par\n",
      "El numero 15 es inpar\n",
      "El numero 16 es par\n",
      "El numero 17 es inpar\n",
      "El numero 18 es par\n",
      "El numero 19 es inpar\n",
      "El numero 20 es par\n"
     ]
    }
   ],
   "source": [
    "for d in range(0,21):\n",
    "    if d % 2 == 0:\n",
    "        print(f'El numero {d} es par')\n",
    "    else:\n",
    "        print(f'El numero {d} es inpar')\n"
   ]
  },
  {
   "cell_type": "code",
   "execution_count": 16,
   "metadata": {},
   "outputs": [
    {
     "name": "stdout",
     "output_type": "stream",
     "text": [
      "El número 1 es impar\n",
      "El numero 2 es par\n",
      "El número 3 es impar\n",
      "El numero 4 es par\n",
      "El número 5 es impar\n",
      "El numero 6 es par\n",
      "El número 7 es impar\n",
      "El numero 8 es par\n",
      "El número 9 es impar\n",
      "El numero 10 es par\n",
      "El número 11 es impar\n",
      "El numero 12 es par\n",
      "El número 13 es impar\n",
      "El numero 14 es par\n",
      "El número 15 es impar\n",
      "El numero 16 es par\n",
      "El número 17 es impar\n",
      "El numero 18 es par\n",
      "El número 19 es impar\n",
      "El numero 20 es par\n"
     ]
    }
   ],
   "source": [
    "# con While:\n",
    "e=1\n",
    "while (e <= 20):\n",
    "   \n",
    "    if e % 2 == 0:\n",
    "        print('El numero', str(e), 'es par')\n",
    "    else:\n",
    "        print('El número', str(e), 'es impar')\n",
    "    e=e+1    "
   ]
  },
  {
   "attachments": {},
   "cell_type": "markdown",
   "metadata": {},
   "source": [
    "4) En un ciclo for mostrar para los valores entre 0 y 5 el resultado de elevarlo a la potencia igual a 3"
   ]
  },
  {
   "cell_type": "code",
   "execution_count": 22,
   "metadata": {},
   "outputs": [
    {
     "name": "stdout",
     "output_type": "stream",
     "text": [
      "El valor de 1 elevado al cubo es de 1\n",
      "El valor de 2 elevado al cubo es de 8\n",
      "El valor de 3 elevado al cubo es de 27\n",
      "El valor de 4 elevado al cubo es de 64\n",
      "El valor de 5 elevado al cubo es de 125\n"
     ]
    }
   ],
   "source": [
    "for f in range(1,6):\n",
    "    g= f**3\n",
    "    print(f'El valor de {f} elevado al cubo es de {g}')\n"
   ]
  },
  {
   "attachments": {},
   "cell_type": "markdown",
   "metadata": {},
   "source": [
    "5) Crear una variable que contenga un número entero y realizar un ciclo for la misma cantidad de ciclos"
   ]
  },
  {
   "cell_type": "code",
   "execution_count": 27,
   "metadata": {},
   "outputs": [
    {
     "name": "stdout",
     "output_type": "stream",
     "text": [
      "24\n"
     ]
    }
   ],
   "source": [
    "h= 25\n",
    "for i in range(0,h):\n",
    "    pass\n",
    "print(i)"
   ]
  },
  {
   "attachments": {},
   "cell_type": "markdown",
   "metadata": {},
   "source": [
    "6) Utilizar un ciclo while para realizar el factorial de un número guardado en una variable, sólo si la variable contiene un número entero mayor a 0"
   ]
  },
  {
   "cell_type": "code",
   "execution_count": 6,
   "metadata": {},
   "outputs": [
    {
     "name": "stdout",
     "output_type": "stream",
     "text": [
      "El factorial es 24\n"
     ]
    }
   ],
   "source": [
    "\n",
    "j= 4\n",
    "if (type(j) == int):\n",
    "    if (j > 0):\n",
    "        k = j\n",
    "        while ( j > 2):\n",
    "            j = j - 1\n",
    "            k = k * j\n",
    "        print(f'El factorial es {k}')\n",
    "    else:\n",
    "        print('El numero no es mayor que 0')\n",
    "else:\n",
    "    print('El numero no es un entero')\n",
    "        "
   ]
  },
  {
   "cell_type": "code",
   "execution_count": 16,
   "metadata": {},
   "outputs": [
    {
     "name": "stdout",
     "output_type": "stream",
     "text": [
      "720\n"
     ]
    }
   ],
   "source": [
    "#Con el ciclo for\n",
    "l = 6\n",
    "ll = 1\n",
    "for m in range( 2, (l + 1)):\n",
    "    ll = m * ll\n",
    "print(ll)"
   ]
  },
  {
   "attachments": {},
   "cell_type": "markdown",
   "metadata": {},
   "source": [
    "7) Crear un ciclo for dentro de un ciclo while"
   ]
  },
  {
   "cell_type": "code",
   "execution_count": 27,
   "metadata": {},
   "outputs": [
    {
     "name": "stdout",
     "output_type": "stream",
     "text": [
      "Ciclo while numero 1\n",
      "Ciclo for numero 0\n",
      "Ciclo for numero 1\n",
      "Ciclo while numero 2\n",
      "Ciclo for numero 0\n",
      "Ciclo for numero 1\n",
      "Ciclo for numero 2\n",
      "Ciclo while numero 3\n",
      "Ciclo for numero 0\n",
      "Ciclo for numero 1\n",
      "Ciclo for numero 2\n",
      "Ciclo for numero 3\n",
      "Ciclo while numero 4\n",
      "Ciclo for numero 0\n",
      "Ciclo for numero 1\n",
      "Ciclo for numero 2\n",
      "Ciclo for numero 3\n",
      "Ciclo for numero 4\n"
     ]
    }
   ],
   "source": [
    "n = 1\n",
    "while n < 5:\n",
    "    print('Ciclo while numero', str(n))\n",
    "    for ñ in range ( 0, n + 1):\n",
    "        print('Ciclo for numero', str(ñ))\n",
    "    n = n + 1"
   ]
  },
  {
   "attachments": {},
   "cell_type": "markdown",
   "metadata": {},
   "source": [
    "8) Crear un ciclo while dentro de un ciclo for"
   ]
  },
  {
   "cell_type": "code",
   "execution_count": 41,
   "metadata": {},
   "outputs": [],
   "source": [
    "o = 5\n",
    "for p in range ( 1, o):\n",
    "    while o < 5:\n",
    "        o = o + 1\n",
    "        print(f'Ciclo while numero {o}')\n",
    "        print(f'Ciclo for numero {p}')\n"
   ]
  },
  {
   "cell_type": "code",
   "execution_count": 42,
   "metadata": {},
   "outputs": [
    {
     "name": "stdout",
     "output_type": "stream",
     "text": [
      "El numero del ciclo for es el  1\n",
      "El numero del ciclo while es el  5\n",
      "El numero del ciclo while es el  4\n",
      "El numero del ciclo while es el  3\n",
      "El numero del ciclo while es el  2\n",
      "El numero del ciclo while es el  1\n",
      "El numero del ciclo for es el  2\n",
      "El numero del ciclo while es el  5\n",
      "El numero del ciclo while es el  4\n",
      "El numero del ciclo while es el  3\n",
      "El numero del ciclo while es el  2\n",
      "El numero del ciclo while es el  1\n",
      "El numero del ciclo for es el  3\n",
      "El numero del ciclo while es el  5\n",
      "El numero del ciclo while es el  4\n",
      "El numero del ciclo while es el  3\n",
      "El numero del ciclo while es el  2\n",
      "El numero del ciclo while es el  1\n",
      "El numero del ciclo for es el  4\n",
      "El numero del ciclo while es el  5\n",
      "El numero del ciclo while es el  4\n",
      "El numero del ciclo while es el  3\n",
      "El numero del ciclo while es el  2\n",
      "El numero del ciclo while es el  1\n"
     ]
    }
   ],
   "source": [
    "q=5\n",
    "for r in range(1,q):\n",
    "    print('El numero del ciclo for es el ', str(r))\n",
    "    q_temp = q\n",
    "    while q_temp > 0:\n",
    "        print('El numero del ciclo while es el ', str(q_temp))\n",
    "        q_temp -= 1\n",
    "    if q_temp < 0:\n",
    "        break "
   ]
  },
  {
   "attachments": {},
   "cell_type": "markdown",
   "metadata": {},
   "source": [
    "9) Imprimir los números primos existentes entre 0 y 30"
   ]
  },
  {
   "cell_type": "code",
   "execution_count": 62,
   "metadata": {},
   "outputs": [
    {
     "name": "stdout",
     "output_type": "stream",
     "text": [
      "0\n",
      "1\n",
      "2\n",
      "3\n",
      "5\n",
      "7\n",
      "11\n",
      "13\n",
      "17\n",
      "19\n",
      "23\n",
      "29\n"
     ]
    }
   ],
   "source": [
    "rangoDeNumeros = 30\n",
    "num= 0\n",
    "primo = True\n",
    "while num < rangoDeNumeros:\n",
    "    for div in range(2,num):\n",
    "        if num % div == 0:\n",
    "            primo = False\n",
    "    if primo:\n",
    "        print(num)\n",
    "    else:\n",
    "        primo = True\n",
    "    num += 1    "
   ]
  },
  {
   "attachments": {},
   "cell_type": "markdown",
   "metadata": {},
   "source": [
    "10) ¿Se puede mejorar el proceso del punto 9? Utilizar las sentencias break y/ó continue para tal fin"
   ]
  },
  {
   "cell_type": "code",
   "execution_count": 63,
   "metadata": {},
   "outputs": [
    {
     "name": "stdout",
     "output_type": "stream",
     "text": [
      "0\n",
      "1\n",
      "2\n",
      "3\n",
      "5\n",
      "7\n",
      "11\n",
      "13\n",
      "17\n",
      "19\n",
      "23\n",
      "29\n"
     ]
    }
   ],
   "source": [
    "num= 0\n",
    "primo=True\n",
    "while (num<rangoDeNumeros):\n",
    "    for div in range(2,num):\n",
    "        if (num % div == 0):\n",
    "            primo=False\n",
    "            break\n",
    "    if (primo):\n",
    "        print(num)\n",
    "    else:\n",
    "        primo=True\n",
    "    num += 1\n"
   ]
  },
  {
   "attachments": {},
   "cell_type": "markdown",
   "metadata": {},
   "source": [
    "11) En los puntos 9 y 10, se diseño un código que encuentra números primos y además se lo optimizó. ¿Es posible saber en qué medida se optimizó?"
   ]
  },
  {
   "cell_type": "code",
   "execution_count": 64,
   "metadata": {},
   "outputs": [
    {
     "name": "stdout",
     "output_type": "stream",
     "text": [
      "0\n",
      "1\n",
      "2\n",
      "3\n",
      "5\n",
      "7\n",
      "11\n",
      "13\n",
      "17\n",
      "19\n",
      "23\n",
      "29\n",
      "Cantidad de ciclos sin break  378\n"
     ]
    }
   ],
   "source": [
    "ciclos_sin_break= 0\n",
    "num=0\n",
    "primo=True\n",
    "while(num< rangoDeNumeros):\n",
    "    for div in range(2,num):\n",
    "        ciclos_sin_break += 1\n",
    "        if (num % div == 0):\n",
    "            primo=False\n",
    "    if (primo):\n",
    "        print(num)\n",
    "    else:\n",
    "        primo=True\n",
    "    num += 1\n",
    "print('Cantidad de ciclos sin break ', str(ciclos_sin_break))"
   ]
  },
  {
   "cell_type": "code",
   "execution_count": 67,
   "metadata": {},
   "outputs": [
    {
     "name": "stdout",
     "output_type": "stream",
     "text": [
      "0\n",
      "1\n",
      "2\n",
      "3\n",
      "5\n",
      "7\n",
      "11\n",
      "13\n",
      "17\n",
      "19\n",
      "23\n",
      "29\n",
      "Cantidad de ciclos con break  134\n",
      "Optimizacion  0.3544973544973545 % de ciclos aplicando break\n"
     ]
    }
   ],
   "source": [
    "ciclos_con_break = 0\n",
    "num=0\n",
    "primo=True\n",
    "while(num < rangoDeNumeros):\n",
    "    for div in range(2, num):\n",
    "        ciclos_con_break +=1\n",
    "        if (num % div == 0):\n",
    "            primo=False\n",
    "            break\n",
    "    if (primo):\n",
    "        print(num)\n",
    "    else:\n",
    "        primo=True\n",
    "    num += 1\n",
    "print('Cantidad de ciclos con break ', str(ciclos_con_break))\n",
    "print('Optimizacion ', str(ciclos_con_break/ciclos_sin_break) + ' % de ciclos aplicando break')"
   ]
  },
  {
   "attachments": {},
   "cell_type": "markdown",
   "metadata": {},
   "source": [
    "12) Aplicando continue, armar un ciclo while que solo imprima los valores divisibles por 12, dentro del rango de números de 100 a 300"
   ]
  },
  {
   "cell_type": "code",
   "execution_count": 74,
   "metadata": {},
   "outputs": [
    {
     "name": "stdout",
     "output_type": "stream",
     "text": [
      "108\n",
      "120\n",
      "132\n",
      "144\n",
      "156\n",
      "168\n",
      "180\n",
      "192\n",
      "204\n",
      "216\n",
      "228\n",
      "240\n",
      "252\n",
      "264\n",
      "276\n",
      "288\n",
      "300\n"
     ]
    }
   ],
   "source": [
    "t = 99\n",
    "while ( t <= 300):\n",
    "    t +=1\n",
    "    if (t % 12 != 0):\n",
    "        continue\n",
    "    print(t)"
   ]
  },
  {
   "attachments": {},
   "cell_type": "markdown",
   "metadata": {},
   "source": [
    "13) Utilizar la función **input()** que permite hacer ingresos por teclado, para encontrar números primos y dar la opción al usario de buscar el siguiente"
   ]
  },
  {
   "cell_type": "code",
   "execution_count": 13,
   "metadata": {},
   "outputs": [
    {
     "name": "stdout",
     "output_type": "stream",
     "text": [
      "1\n",
      "Desea otro?\n",
      "2\n",
      "Desea otro?\n",
      "3\n",
      "Desea otro?\n",
      "5\n",
      "Desea otro?\n",
      "7\n",
      "Desea otro?\n",
      "11\n",
      "Desea otro?\n",
      "13\n",
      "Desea otro?\n",
      "17\n",
      "Desea otro?\n",
      "19\n",
      "Desea otro?\n",
      "Chau\n"
     ]
    }
   ],
   "source": [
    "numerito = 1\n",
    "sigue = 1\n",
    "primo = True\n",
    "while (sigue == 1):\n",
    "    for div in range (2, numerito):\n",
    "        if ( numerito % div == 0):\n",
    "            primo = False\n",
    "            break\n",
    "    if (primo):\n",
    "        print(numerito)\n",
    "        print('Desea otro?')\n",
    "        if (input() != '1'):\n",
    "            print('Chau')\n",
    "            break\n",
    "    else:\n",
    "        primo = True\n",
    "    numerito += 1\n",
    "\n",
    "  "
   ]
  },
  {
   "attachments": {},
   "cell_type": "markdown",
   "metadata": {},
   "source": [
    "14) Crear un ciclo while que encuentre dentro del rango de 100 a 300 el primer número divisible por 3 y además múltiplo de 6"
   ]
  },
  {
   "cell_type": "code",
   "execution_count": 22,
   "metadata": {},
   "outputs": [
    {
     "name": "stdout",
     "output_type": "stream",
     "text": [
      "El numero es 102\n"
     ]
    }
   ],
   "source": [
    "num14= 100\n",
    "while (num14 <=300):\n",
    "    if (num14 % 6 == 0):\n",
    "        print('El numero es', num14)\n",
    "        break\n",
    "    num14 += 1"
   ]
  }
 ],
 "metadata": {
  "interpreter": {
   "hash": "c85384e4cb51c8b72350f3a8712cc8351fdc3955e32a27f9b60c6242ab125f01"
  },
  "kernelspec": {
   "display_name": "Python 3 (ipykernel)",
   "language": "python",
   "name": "python3"
  },
  "language_info": {
   "codemirror_mode": {
    "name": "ipython",
    "version": 3
   },
   "file_extension": ".py",
   "mimetype": "text/x-python",
   "name": "python",
   "nbconvert_exporter": "python",
   "pygments_lexer": "ipython3",
   "version": "3.12.1"
  }
 },
 "nbformat": 4,
 "nbformat_minor": 4
}
