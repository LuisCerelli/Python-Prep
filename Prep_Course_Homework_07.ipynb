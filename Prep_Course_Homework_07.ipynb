{
 "cells": [
  {
   "attachments": {},
   "cell_type": "markdown",
   "metadata": {},
   "source": [
    "## Funciones"
   ]
  },
  {
   "attachments": {},
   "cell_type": "markdown",
   "metadata": {},
   "source": [
    "1) Crear una función que reciba un número como parámetro y devuelva True si es primo y False si no lo es"
   ]
  },
  {
   "cell_type": "code",
   "execution_count": 17,
   "metadata": {},
   "outputs": [],
   "source": [
    "def trueOrFalse(a):\n",
    "    b= True\n",
    "    for ind in range ( 2, a):\n",
    "        if a % ind == 0:\n",
    "            b = False\n",
    "        break\n",
    "    return b"
   ]
  },
  {
   "cell_type": "code",
   "execution_count": 21,
   "metadata": {},
   "outputs": [
    {
     "data": {
      "text/plain": [
       "True"
      ]
     },
     "execution_count": 21,
     "metadata": {},
     "output_type": "execute_result"
    }
   ],
   "source": [
    "trueOrFalse(13154956465449)"
   ]
  },
  {
   "attachments": {},
   "cell_type": "markdown",
   "metadata": {},
   "source": [
    "2) Utilizando la función del punto 1, realizar otra función que reciba de parámetro una lista de números y devuelva sólo aquellos que son primos en otra lista"
   ]
  },
  {
   "cell_type": "code",
   "execution_count": 22,
   "metadata": {},
   "outputs": [],
   "source": [
    "def devolver_primo(listado):\n",
    "    lista_almacenamiento = []\n",
    "    for indice in listado:\n",
    "        if trueOrFalse(int(indice)):\n",
    "            lista_almacenamiento.append(indice)\n",
    "    return lista_almacenamiento"
   ]
  },
  {
   "cell_type": "code",
   "execution_count": 23,
   "metadata": {},
   "outputs": [
    {
     "name": "stdout",
     "output_type": "stream",
     "text": [
      "[25, 27, 2325, 1, 3, 654589, 77788999, 777777]\n"
     ]
    }
   ],
   "source": [
    "lista1 = [25,26,27,654,984,2325,12664,222,1,3,6,4,654589,77788999,777777]\n",
    "lista2 = devolver_primo(lista1)\n",
    "print(lista2)"
   ]
  },
  {
   "attachments": {},
   "cell_type": "markdown",
   "metadata": {},
   "source": [
    "3) Crear una función que al recibir una lista de números, devuelva el que más se repite y cuántas veces lo hace. Si hay más de un \"más repetido\", que devuelva cualquiera"
   ]
  },
  {
   "cell_type": "markdown",
   "metadata": {},
   "source": [
    "Se encuentra en el 40.19 del video Curso preparatorio , Clase 6"
   ]
  },
  {
   "cell_type": "code",
   "execution_count": 7,
   "metadata": {},
   "outputs": [],
   "source": [
    "def numero_mas_repetido(lista):\n",
    "    contador = {}\n",
    "    for num in lista:\n",
    "        if num in contador.keys():\n",
    "            contador[num] += 1\n",
    "        else:\n",
    "            contador[num] = 1\n",
    "\n",
    "    maximo_repeticion = 0\n",
    "    mas_repetido = None\n",
    "\n",
    "    for numero, repeticion  in contador.items():\n",
    "        if repeticion > maximo_repeticion:\n",
    "            maximo_repeticion = repeticion\n",
    "            mas_repetido = numero\n",
    "\n",
    "\n",
    "    return mas_repetido, maximo_repeticion"
   ]
  },
  {
   "cell_type": "code",
   "execution_count": 6,
   "metadata": {},
   "outputs": [
    {
     "data": {
      "text/plain": [
       "(5, 4)"
      ]
     },
     "execution_count": 6,
     "metadata": {},
     "output_type": "execute_result"
    }
   ],
   "source": [
    "lis = [ 10,1,5,6,8,10,22,5,6,4,11,10,9,5,5]\n",
    "numero_mas_repetido(lis)"
   ]
  },
  {
   "cell_type": "code",
   "execution_count": 25,
   "metadata": {},
   "outputs": [],
   "source": [
    "def quien_y_cuanto(listado):\n",
    "    los_unicos = []\n",
    "    los_repetidos = []\n",
    "    if len(listado) == 0:\n",
    "        return None\n",
    "    for indice in listado:\n",
    "        if indice in los_unicos:\n",
    "            unico = los_unicos.index(indice)\n",
    "            los_repetidos[unico] += 1\n",
    "        else:\n",
    "            los_unicos.append(indice)\n",
    "            los_repetidos.append(1)\n",
    "    lodo = los_unicos[0]\n",
    "    barro = los_repetidos[0]\n",
    "    for unico, indice in enumerate(los_unicos):\n",
    "        if los_repetidos[unico] > barro:\n",
    "            lodo = los_unicos[unico]\n",
    "            barro = los_repetidos[unico]\n",
    "    return lodo, barro"
   ]
  },
  {
   "cell_type": "code",
   "execution_count": 30,
   "metadata": {},
   "outputs": [
    {
     "name": "stdout",
     "output_type": "stream",
     "text": [
      "El número más repetodo es  (1, 4) cantidad de veces\n"
     ]
    }
   ],
   "source": [
    "lista3 = [1,1,1,2,3,4,5,6,4,1,5,9,7,8,6,15,15,15,1354,1357,65,99,9,77,99]\n",
    "print('El número más repetodo es ', quien_y_cuanto(lista3), 'cantidad de veces')\n"
   ]
  },
  {
   "cell_type": "code",
   "execution_count": 18,
   "metadata": {},
   "outputs": [],
   "source": [
    "def numero_mas_repetido(lista, modo):\n",
    "    contador = {}\n",
    "    for num in lista:\n",
    "        if num in contador.keys():\n",
    "            contador[num] += 1\n",
    "        else:\n",
    "            contador[num] = 1\n",
    "\n",
    "    maximo_repeticion = 0\n",
    "    mas_repetido = []\n",
    "\n",
    "    for numero, repeticion  in contador.items():\n",
    "        if repeticion > maximo_repeticion:\n",
    "            maximo_repeticion = repeticion\n",
    "            mas_repetido = [numero]\n",
    "        elif repeticion == maximo_repeticion:\n",
    "            mas_repetido.append(numero)\n",
    "\n",
    "    if modo  == 'menor':\n",
    "        mas_repetido_num = min(mas_repetido)\n",
    "    elif modo == 'mayor':\n",
    "        mas_repetido_num = max(mas_repetido)\n",
    "\n",
    "            \n",
    "\n",
    "\n",
    "    return mas_repetido_num, maximo_repeticion, contador    "
   ]
  },
  {
   "cell_type": "code",
   "execution_count": 20,
   "metadata": {},
   "outputs": [
    {
     "data": {
      "text/plain": [
       "(5, 3, {10: 3, 1: 1, 5: 3, 6: 2, 8: 1, 22: 1, 4: 1, 11: 1, 9: 1})"
      ]
     },
     "execution_count": 20,
     "metadata": {},
     "output_type": "execute_result"
    }
   ],
   "source": [
    "lis = [ 10,1,5,6,8,10,22,5,6,4,11,10,9,5]\n",
    "numero_mas_repetido(lis, 'menor')"
   ]
  },
  {
   "attachments": {},
   "cell_type": "markdown",
   "metadata": {},
   "source": [
    "4) Crear una función que convierta entre grados Celsius, Farenheit y Kelvin<br>\n",
    "Fórmula 1\t: (°C × 9/5) + 32 = °F<br>\n",
    "Fórmula 2\t: °C + 273.15 = °K<br>\n",
    "Debe recibir 3 parámetros: el valor, la medida de orígen y la medida de destino\n"
   ]
  },
  {
   "cell_type": "code",
   "execution_count": 1,
   "metadata": {},
   "outputs": [],
   "source": [
    "def convertir_grados(valor, origen, destino):\n",
<<<<<<< HEAD
    "    valor_final = None\n",
=======
         valor_final = None\:n",
>>>>>>> 6c674aa4d563cc955e0e391c54799e6b177141d7
    "    if origen == 'celsius':\n",
    "        if destino == 'celsius':\n",
    "            valor_final = valor\n",
    "        elif destino == 'farenheit':\n",
    "            valor_final = (valor * 9 / 5) + 32\n",
    "        elif destino == 'kelvin':\n",
    "            valor_final = valor + 273.15\n",
    "        else:\n",
    "            print('El parámetro de destino no es correcto')\n",
    "    elif origen == 'farenheit':\n",
    "        if destino == 'celsius':\n",
    "            valor_final = (valor - 32) * 5 / 9 \n",
    "        elif destino == 'farenheit':\n",
    "            valor_final = valor\n",
    "        elif destino == 'kelvin':\n",
    "            valor_final = ((valor - 32) * 5 / 9) + 273.15\n",
    "        else:\n",
    "            print('El parámetro de destino no es correcto')\n",
    "    elif origen == 'kelvin':\n",
    "        if destino == 'celsius':\n",
    "            valor_final = valor - 273.15 \n",
    "        elif destino == 'farenheit':\n",
    "            valor_final = ((valor - 273.15) * 9 / 5) + 32\n",
    "        elif destino == 'kelvin':\n",
    "            valor_final =valor\n",
    "        else:\n",
    "            print('El parámetro de destino no es correcto')\n",
    "    else:\n",
    "        print('El parámetro de Origen no es correcto')\n",
    "    return valor_final\n"
   ]
  },
  {
   "cell_type": "code",
   "execution_count": 144,
   "metadata": {},
   "outputs": [
    {
     "name": "stdout",
     "output_type": "stream",
     "text": [
      "1 grado Kelvin a Celsius: -272.15\n",
      "2 grado Kelvin a Kelvin: 2\n",
      "1 grado Kelvin a Farenheit: -457.87\n",
      "1 grado Celsius a Celsius: 1\n",
      "1 grado Celsius a Kelvin: 274.15\n",
      "1 grado Celsius a Farenheit: 33.8\n",
      "1 grado Farenheit a Celsius: -17.22222222222222\n",
      "1 grado Farenheit a Kelvin: 255.92777777777775\n",
      "1 grado Farenheit a Farenheit: 1\n"
     ]
    }
   ],
   "source": [
    "print('1 grado Kelvin a Celsius:', convertir_grados(1, 'kelvin', 'celsius'))\n",
    "print('2 grado Kelvin a Kelvin:', convertir_grados(2, 'kelvin', 'kelvin'))\n",
    "print('1 grado Kelvin a Farenheit:', convertir_grados(1, 'kelvin', 'farenheit'))\n",
    "print('1 grado Celsius a Celsius:', convertir_grados(1, 'celsius', 'celsius'))\n",
    "print('1 grado Celsius a Kelvin:', convertir_grados(1, 'celsius', 'kelvin'))\n",
    "print('1 grado Celsius a Farenheit:', convertir_grados(1, 'celsius', 'farenheit'))\n",
    "print('1 grado Farenheit a Celsius:', convertir_grados(1, 'farenheit', 'celsius'))\n",
    "print('1 grado Farenheit a Kelvin:', convertir_grados(1, 'farenheit', 'kelvin'))\n",
    "print('1 grado Farenheit a Farenheit:', convertir_grados(1, 'farenheit', 'farenheit'))\n"
   ]
  },
  {
   "attachments": {},
   "cell_type": "markdown",
   "metadata": {},
   "source": [
    "5) Iterando una lista con los tres valores posibles de temperatura que recibe la función del punto 5, hacer un print para cada combinación de los mismos:"
   ]
  },
  {
   "cell_type": "code",
   "execution_count": 156,
   "metadata": {},
   "outputs": [
    {
     "name": "stdout",
     "output_type": "stream",
     "text": [
      "1 grado de celsius convertido a celsius equivale a 1\n",
      "1 grado de celsius convertido a kelvin equivale a 274.15\n",
      "1 grado de celsius convertido a farenheit equivale a 33.8\n",
      "1 grado de kelvin convertido a celsius equivale a -272.15\n",
      "1 grado de kelvin convertido a kelvin equivale a 1\n",
      "1 grado de kelvin convertido a farenheit equivale a -457.87\n",
      "1 grado de farenheit convertido a celsius equivale a -17.22222222222222\n",
      "1 grado de farenheit convertido a kelvin equivale a 255.92777777777775\n",
      "1 grado de farenheit convertido a farenheit equivale a 1\n"
     ]
    }
   ],
   "source": [
    "unidades = ['celsius', 'kelvin', 'farenheit']\n",
    "for k in range (0, 3):\n",
    "    for l in range(0, 3):\n",
    "        print('1 grado de', unidades[k], 'convertido a', unidades[l], 'equivale a', convertir_grados(1, unidades[k], unidades[l]))"
   ]
  },
  {
   "attachments": {},
   "cell_type": "markdown",
   "metadata": {},
   "source": [
    "6) Armar una función que devuelva el factorial de un número. Tener en cuenta que el usuario puede equivocarse y enviar de parámetro un número no entero o negativo"
   ]
  },
  {
   "cell_type": "code",
   "execution_count": 157,
   "metadata": {},
   "outputs": [],
   "source": [
    "def funcionFactorial(numeroDelUsuario):\n",
    "    if type(numeroDelUsuario) != int:\n",
    "        return 'Se esperaba un numero Entero'\n",
    "    if numeroDelUsuario < 0:\n",
    "        return 'El numero debe ser positivo'\n",
    "    if numeroDelUsuario <= 1:\n",
    "        return 1\n",
    "    \n",
    "    numeroDelUsuario = numeroDelUsuario * funcionFactorial(numeroDelUsuario-1)\n",
    "\n",
    "    return numeroDelUsuario"
   ]
  },
  {
   "cell_type": "code",
   "execution_count": 159,
   "metadata": {},
   "outputs": [
    {
     "name": "stdout",
     "output_type": "stream",
     "text": [
      "40320\n",
      "El numero debe ser positivo\n",
      "Se esperaba un numero Entero\n",
      "119622220865480194561963161495657715064383733760000000000\n"
     ]
    }
   ],
   "source": [
    "print(funcionFactorial(8))\n",
    "print(funcionFactorial(-8))\n",
    "print(funcionFactorial('8'))\n",
    "print(funcionFactorial(45))"
   ]
  }
 ],
 "metadata": {
  "interpreter": {
   "hash": "c85384e4cb51c8b72350f3a8712cc8351fdc3955e32a27f9b60c6242ab125f01"
  },
  "kernelspec": {
   "display_name": "Python 3 (ipykernel)",
   "language": "python",
   "name": "python3"
  },
  "language_info": {
   "codemirror_mode": {
    "name": "ipython",
    "version": 3
   },
   "file_extension": ".py",
   "mimetype": "text/x-python",
   "name": "python",
   "nbconvert_exporter": "python",
   "pygments_lexer": "ipython3",
   "version": "3.12.1"
  }
 },
 "nbformat": 4,
 "nbformat_minor": 4
}
